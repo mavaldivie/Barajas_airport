{
  "nbformat": 4,
  "nbformat_minor": 0,
  "metadata": {
    "colab": {
      "provenance": [],
      "authorship_tag": "ABX9TyNPWRFbo4AaCdRjEYhD+XTo",
      "include_colab_link": true
    },
    "kernelspec": {
      "name": "python3",
      "display_name": "Python 3"
    },
    "language_info": {
      "name": "python"
    }
  },
  "cells": [
    {
      "cell_type": "markdown",
      "metadata": {
        "id": "view-in-github",
        "colab_type": "text"
      },
      "source": [
        "<a href=\"https://colab.research.google.com/github/mavaldivie/Barajas_airport/blob/master/DermaUH_Challenge.ipynb\" target=\"_parent\"><img src=\"https://colab.research.google.com/assets/colab-badge.svg\" alt=\"Open In Colab\"/></a>"
      ]
    },
    {
      "cell_type": "code",
      "execution_count": null,
      "metadata": {
        "id": "XR-rXUVbOdTT"
      },
      "outputs": [],
      "source": [
        "!pip install gdown\n",
        "!gdown https://drive.google.com/drive/folders/1Wqe4AorKj7d_yexSQ0QzUY1S5vvuKhox?usp=drive_link -O /content/images --folder"
      ]
    },
    {
      "cell_type": "code",
      "source": [
        "# Your code goes here, add the logic to preprocess the data,\n",
        "# load and evaluate your model with the provided image\n",
        "\n",
        "from PIL import Image\n",
        "import random, math\n",
        "\n",
        "def classify(img: Image):\n",
        "  r = random.uniform(0, 4)\n",
        "  return math.floor(r)"
      ],
      "metadata": {
        "id": "gGCOPwyFOoMW"
      },
      "execution_count": 3,
      "outputs": []
    },
    {
      "cell_type": "code",
      "source": [
        "# Override this function with the one you\n",
        "# will be using to classify the images.\n",
        "# The resulting function should accept a Pil image and return\n",
        "# its classification, encoded in a number from 0 to 3:\n",
        "# 0: Basal Cell Carcinoma (bcc)\n",
        "# 1: Melanom (mel)\n",
        "# 2: Others (other)\n",
        "# 3: Squamous Cell Carcinoma (scc)\n",
        "\n",
        "my_classificator = classify"
      ],
      "metadata": {
        "id": "2noQXlJZOqHr"
      },
      "execution_count": 4,
      "outputs": []
    },
    {
      "cell_type": "markdown",
      "source": [
        "The sections below will be used to evaluate your model, please do not change it."
      ],
      "metadata": {
        "id": "PTzp4Q5COvCE"
      }
    },
    {
      "cell_type": "code",
      "source": [
        "import glob\n",
        "\n",
        "labels = ['bcc', 'mel', 'other', 'scc']\n",
        "\n",
        "def classificator(img: Image):\n",
        "  result = my_classificator(img)\n",
        "  return labels[result]\n",
        "\n",
        "basal = list(glob.glob('images/bcc/*.JPG'))\n",
        "melanom = list(glob.glob('images/mel/*.JPG'))\n",
        "other = list(glob.glob('images/other/*.JPG'))\n",
        "squamous = list(glob.glob('images/scc/*.JPG'))\n",
        "\n",
        "image_paths = basal + melanom + other + squamous\n",
        "\n",
        "actual = (['bcc'] * len(basal)) + \\\n",
        "  (['mel'] * len(melanom)) + \\\n",
        "  (['other'] * len(other)) + \\\n",
        "  (['scc'] * len(squamous))\n",
        "\n",
        "predicted = [classificator(Image.open(p)) for p in image_paths]\n",
        "\n",
        "# print(image_paths)\n",
        "# print(actual)\n",
        "# print(predicted)"
      ],
      "metadata": {
        "id": "rkOtI4YiOsFz"
      },
      "execution_count": 13,
      "outputs": []
    },
    {
      "cell_type": "code",
      "source": [
        "import numpy as np\n",
        "from sklearn.metrics import confusion_matrix, classification_report\n",
        "import seaborn as sns\n",
        "import matplotlib.pyplot as plt"
      ],
      "metadata": {
        "id": "N8EIMWpjOyFm"
      },
      "execution_count": 10,
      "outputs": []
    },
    {
      "cell_type": "code",
      "source": [
        "cm = confusion_matrix(actual,predicted)\n",
        "\n",
        "sns.heatmap(cm,\n",
        "            annot=True,\n",
        "            fmt='g',\n",
        "            xticklabels=labels,\n",
        "            yticklabels=labels)\n",
        "plt.ylabel('Prediction',fontsize=13)\n",
        "plt.xlabel('Actual',fontsize=13)\n",
        "plt.title('Confusion Matrix',fontsize=17)\n",
        "plt.show()"
      ],
      "metadata": {
        "colab": {
          "base_uri": "https://localhost:8080/",
          "height": 481
        },
        "id": "qT0QD_tWOyl_",
        "outputId": "279f5a63-d5b9-41c1-c658-e79daad5aab9"
      },
      "execution_count": 14,
      "outputs": [
        {
          "output_type": "display_data",
          "data": {
            "text/plain": [
              "<Figure size 640x480 with 2 Axes>"
            ],
            "image/png": "[encoded data removed]"
          },
          "metadata": {}
        }
      ]
    },
    {
      "cell_type": "code",
      "source": [
        "print(classification_report(actual, predicted))"
      ],
      "metadata": {
        "colab": {
          "base_uri": "https://localhost:8080/"
        },
        "id": "Ef_6mROCO0zt",
        "outputId": "4e49e4bb-6afa-4773-a372-8748e96de623"
      },
      "execution_count": 15,
      "outputs": [
        {
          "output_type": "stream",
          "name": "stdout",
          "text": [
            "              precision    recall  f1-score   support\n",
            "\n",
            "         bcc       0.08      0.10      0.09        10\n",
            "         mel       0.43      0.30      0.35        10\n",
            "       other       0.30      0.30      0.30        10\n",
            "         scc       0.18      0.20      0.19        10\n",
            "\n",
            "    accuracy                           0.23        40\n",
            "   macro avg       0.25      0.22      0.23        40\n",
            "weighted avg       0.25      0.23      0.23        40\n",
            "\n"
          ]
        }
      ]
    }
  ]
}